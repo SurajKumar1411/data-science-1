{
 "cells": [
  {
   "cell_type": "markdown",
   "id": "6e1c4a07-4c97-4599-be3e-81e60ff55ac2",
   "metadata": {},
   "source": [
    "# Data Science Tools and Ecosystem"
   ]
  },
  {
   "cell_type": "markdown",
   "id": "3cf89854-eef4-4d48-b388-67f0aeac6041",
   "metadata": {},
   "source": [
    "# Heading1\n",
    "## Heading2\n",
    "### Heading3\n",
    "#### Heading4\n",
    "##### Heading5"
   ]
  },
  {
   "cell_type": "markdown",
   "id": "29a87734-fede-4cd6-a290-d1b474060562",
   "metadata": {},
   "source": [
    "\"In this Notebook , Data Science Tools and Ecosystem are summarized.\""
   ]
  },
  {
   "cell_type": "markdown",
   "id": "9483ce61-91c1-4bb5-b976-23fe4a6f166e",
   "metadata": {},
   "source": [
    "Some of the popular languages that Data Scientists use are:\n",
    "1. Python\n",
    "2. R\n",
    "3. SQL\n",
    "4. Java"
   ]
  },
  {
   "cell_type": "markdown",
   "id": "a11e43a3-76ab-4a4d-a98c-b7aefa64fe56",
   "metadata": {},
   "source": [
    "Some of the commonly used libraries used by Data Scientists include:\n",
    "1. Pandas\n",
    "2. NumPy\n",
    "3. Matplotlib\n",
    "4. Scikit-learn"
   ]
  },
  {
   "cell_type": "markdown",
   "id": "1832c5a9-e934-4c7a-8423-a7e4802f4e44",
   "metadata": {},
   "source": [
    "| Data Science Tools |\n",
    "|--------------------|\n",
    "| Jupyter Notebook   |\n",
    "| RStudio            |\n",
    "| Apache Zeppelin    |"
   ]
  },
  {
   "cell_type": "markdown",
   "id": "f7f3028f-80fb-4a87-b63d-330eb964f849",
   "metadata": {},
   "source": [
    "### Below are a few examples of evaluating arithmetic expressions in Python.\n"
   ]
  },
  {
   "cell_type": "markdown",
   "id": "eb9a2f2c-187c-4421-bd3a-14a2d65ed652",
   "metadata": {},
   "source": [
    "# Multiply and add numbers"
   ]
  },
  {
   "cell_type": "code",
   "execution_count": 1,
   "id": "7a9c8e73-0da2-4587-a8c9-932c3794582a",
   "metadata": {},
   "outputs": [
    {
     "data": {
      "text/plain": [
       "17"
      ]
     },
     "execution_count": 1,
     "metadata": {},
     "output_type": "execute_result"
    }
   ],
   "source": [
    "result = (3 * 4) + 5\n",
    "result\n"
   ]
  },
  {
   "cell_type": "markdown",
   "id": "3bcfcc82-e92d-41c6-825b-e2cae9c84404",
   "metadata": {},
   "source": [
    "# This will convert 200 minutes to hours by dividing by 60.\n"
   ]
  },
  {
   "cell_type": "code",
   "execution_count": 2,
   "id": "410f1f27-78ef-42ce-8e0a-4785e9544522",
   "metadata": {},
   "outputs": [
    {
     "data": {
      "text/plain": [
       "3.3333333333333335"
      ]
     },
     "execution_count": 2,
     "metadata": {},
     "output_type": "execute_result"
    }
   ],
   "source": [
    "\n",
    "minutes = 200\n",
    "hours = minutes / 60\n",
    "hours"
   ]
  },
  {
   "cell_type": "markdown",
   "id": "80aa9fa0-a48b-4623-bbdb-2a43cfa24f84",
   "metadata": {},
   "source": [
    "**Objectives:**\n",
    "- List popular languages for Data Science.\n",
    "- List common libraries used in Data Science.\n",
    "- Introduce arithmetic expressions in Python.\n",
    "- Perform unit conversions in Python."
   ]
  },
  {
   "cell_type": "markdown",
   "id": "23753040-4fea-40d6-ba8e-cbc1751a95be",
   "metadata": {},
   "source": [
    "## Author Name\n",
    "Krishna"
   ]
  },
  {
   "cell_type": "code",
   "execution_count": null,
   "id": "1e3d508b-f0e1-4960-aacc-d88ebb639756",
   "metadata": {},
   "outputs": [],
   "source": []
  }
 ],
 "metadata": {
  "kernelspec": {
   "display_name": "Python 3 (ipykernel)",
   "language": "python",
   "name": "python3"
  },
  "language_info": {
   "codemirror_mode": {
    "name": "ipython",
    "version": 3
   },
   "file_extension": ".py",
   "mimetype": "text/x-python",
   "name": "python",
   "nbconvert_exporter": "python",
   "pygments_lexer": "ipython3",
   "version": "3.12.8"
  }
 },
 "nbformat": 4,
 "nbformat_minor": 5
}
